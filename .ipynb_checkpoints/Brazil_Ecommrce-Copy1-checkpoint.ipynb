{
 "cells": [
  {
   "cell_type": "code",
   "execution_count": 1,
   "metadata": {},
   "outputs": [],
   "source": [
    "import numpy as np\n",
    "import pandas as pd\n",
    "import matplotlib.pyplot as plt\n",
    "import statsmodels.formula.api as smf\n",
    "import datetime as dt\n"
   ]
  },
  {
   "cell_type": "code",
   "execution_count": 2,
   "metadata": {},
   "outputs": [],
   "source": [
    "df1 = pd.read_csv('brazilian_ecommerce/olist_orders_dataset.csv')\n",
    "df2 = pd.read_csv('brazilian_ecommerce/olist_customers_dataset.csv')\n",
    "df3 = pd.read_csv('brazilian_ecommerce/olist_order_payments_dataset.csv')"
   ]
  },
  {
   "cell_type": "code",
   "execution_count": 3,
   "metadata": {},
   "outputs": [
    {
     "name": "stdout",
     "output_type": "stream",
     "text": [
      "<class 'pandas.core.frame.DataFrame'>\n",
      "RangeIndex: 99441 entries, 0 to 99440\n",
      "Data columns (total 2 columns):\n",
      "CUSTOMER_ID    99441 non-null object\n",
      "ORDER_DATE     99441 non-null datetime64[ns]\n",
      "dtypes: datetime64[ns](1), object(1)\n",
      "memory usage: 1.5+ MB\n"
     ]
    },
    {
     "data": {
      "text/html": [
       "<div>\n",
       "<style scoped>\n",
       "    .dataframe tbody tr th:only-of-type {\n",
       "        vertical-align: middle;\n",
       "    }\n",
       "\n",
       "    .dataframe tbody tr th {\n",
       "        vertical-align: top;\n",
       "    }\n",
       "\n",
       "    .dataframe thead th {\n",
       "        text-align: right;\n",
       "    }\n",
       "</style>\n",
       "<table border=\"1\" class=\"dataframe\">\n",
       "  <thead>\n",
       "    <tr style=\"text-align: right;\">\n",
       "      <th></th>\n",
       "      <th>CUSTOMER_ID</th>\n",
       "      <th>ORDER_DATE</th>\n",
       "    </tr>\n",
       "  </thead>\n",
       "  <tbody>\n",
       "    <tr>\n",
       "      <td>36260</td>\n",
       "      <td>3435ff207812c23c1b61d57b93500645</td>\n",
       "      <td>2017-02-02</td>\n",
       "    </tr>\n",
       "    <tr>\n",
       "      <td>90033</td>\n",
       "      <td>eb8f12dc51e3b978a66ca593ead9c28c</td>\n",
       "      <td>2018-07-06</td>\n",
       "    </tr>\n",
       "    <tr>\n",
       "      <td>46114</td>\n",
       "      <td>d86352edd100c4767e9d896e5727c2ee</td>\n",
       "      <td>2017-03-18</td>\n",
       "    </tr>\n",
       "    <tr>\n",
       "      <td>35688</td>\n",
       "      <td>97ba9c6276256eca910e8d36e78abfa8</td>\n",
       "      <td>2018-01-20</td>\n",
       "    </tr>\n",
       "    <tr>\n",
       "      <td>76961</td>\n",
       "      <td>6cc4314c23dcda2c625df58516cdd853</td>\n",
       "      <td>2017-11-16</td>\n",
       "    </tr>\n",
       "    <tr>\n",
       "      <td>...</td>\n",
       "      <td>...</td>\n",
       "      <td>...</td>\n",
       "    </tr>\n",
       "    <tr>\n",
       "      <td>70775</td>\n",
       "      <td>adc5def00980baefc876eb8023fb053d</td>\n",
       "      <td>2017-02-16</td>\n",
       "    </tr>\n",
       "    <tr>\n",
       "      <td>76902</td>\n",
       "      <td>05608ec24b6e52507bbe54dc921d3b62</td>\n",
       "      <td>2017-10-01</td>\n",
       "    </tr>\n",
       "    <tr>\n",
       "      <td>65871</td>\n",
       "      <td>7d486a0be548e112afa0540d337019ee</td>\n",
       "      <td>2017-10-21</td>\n",
       "    </tr>\n",
       "    <tr>\n",
       "      <td>14231</td>\n",
       "      <td>c03de2988b6725b520eac2f77e2b1931</td>\n",
       "      <td>2018-01-12</td>\n",
       "    </tr>\n",
       "    <tr>\n",
       "      <td>16632</td>\n",
       "      <td>79427e2162d316b713fc8c37a16e7fb5</td>\n",
       "      <td>2018-03-11</td>\n",
       "    </tr>\n",
       "  </tbody>\n",
       "</table>\n",
       "<p>1000 rows × 2 columns</p>\n",
       "</div>"
      ],
      "text/plain": [
       "                            CUSTOMER_ID ORDER_DATE\n",
       "36260  3435ff207812c23c1b61d57b93500645 2017-02-02\n",
       "90033  eb8f12dc51e3b978a66ca593ead9c28c 2018-07-06\n",
       "46114  d86352edd100c4767e9d896e5727c2ee 2017-03-18\n",
       "35688  97ba9c6276256eca910e8d36e78abfa8 2018-01-20\n",
       "76961  6cc4314c23dcda2c625df58516cdd853 2017-11-16\n",
       "...                                 ...        ...\n",
       "70775  adc5def00980baefc876eb8023fb053d 2017-02-16\n",
       "76902  05608ec24b6e52507bbe54dc921d3b62 2017-10-01\n",
       "65871  7d486a0be548e112afa0540d337019ee 2017-10-21\n",
       "14231  c03de2988b6725b520eac2f77e2b1931 2018-01-12\n",
       "16632  79427e2162d316b713fc8c37a16e7fb5 2018-03-11\n",
       "\n",
       "[1000 rows x 2 columns]"
      ]
     },
     "metadata": {},
     "output_type": "display_data"
    }
   ],
   "source": [
    "cols = ['customer_id', 'order_id', 'order_purchase_timestamp']\n",
    "orders = df1[cols]\n",
    "orders = orders.set_index('customer_id')\n",
    "orders.drop_duplicates(inplace=True)\n",
    "\n",
    "# too few \n",
    "cols = ['order_id', 'payment_value']\n",
    "payment = df3[cols]\n",
    "payment = payment.set_index('order_id')\n",
    "payment.drop_duplicates(inplace=True)\n",
    "\n",
    "cols = ['customer_id', 'customer_unique_id']\n",
    "customers = df2[cols]\n",
    "customers = customers.set_index('customer_id')\n",
    "\n",
    "elog = pd.concat([orders,customers], axis=1, join='inner')\n",
    "elog.reset_index(inplace=True)\n",
    "\n",
    "cols = ['customer_unique_id', 'order_purchase_timestamp']\n",
    "elog = elog[cols]\n",
    "\n",
    "elog['order_purchase_timestamp'] = pd.to_datetime(elog['order_purchase_timestamp'])\n",
    "elog['order_date'] = elog.order_purchase_timestamp.dt.date\n",
    "elog['order_date'] = pd.to_datetime(elog['order_date'])\n",
    "\n",
    "cols = ['customer_unique_id', 'order_date']\n",
    "elog = elog[cols]\n",
    "\n",
    "elog.columns = ['CUSTOMER_ID', 'ORDER_DATE']\n",
    "\n",
    "\n",
    "elog.info()\n",
    "display(elog.sample(1000))"
   ]
  },
  {
   "cell_type": "code",
   "execution_count": 4,
   "metadata": {},
   "outputs": [],
   "source": [
    "elog.drop_duplicates(inplace=True)"
   ]
  },
  {
   "cell_type": "code",
   "execution_count": 5,
   "metadata": {},
   "outputs": [
    {
     "data": {
      "text/plain": [
       "count                   98480\n",
       "unique                    634\n",
       "top       2017-11-24 00:00:00\n",
       "freq                     1161\n",
       "first     2016-09-04 00:00:00\n",
       "last      2018-10-17 00:00:00\n",
       "Name: ORDER_DATE, dtype: object"
      ]
     },
     "execution_count": 5,
     "metadata": {},
     "output_type": "execute_result"
    }
   ],
   "source": [
    "elog.ORDER_DATE.describe()"
   ]
  },
  {
   "cell_type": "code",
   "execution_count": 6,
   "metadata": {},
   "outputs": [
    {
     "data": {
      "text/plain": [
       "count                                98480\n",
       "unique                               96096\n",
       "top       8d50f5eadf50201ccdcedfb9e2ac8455\n",
       "freq                                    17\n",
       "Name: CUSTOMER_ID, dtype: object"
      ]
     },
     "execution_count": 6,
     "metadata": {},
     "output_type": "execute_result"
    }
   ],
   "source": [
    "elog.CUSTOMER_ID.describe()"
   ]
  },
  {
   "cell_type": "code",
   "execution_count": null,
   "metadata": {},
   "outputs": [],
   "source": []
  },
  {
   "cell_type": "code",
   "execution_count": null,
   "metadata": {},
   "outputs": [],
   "source": []
  },
  {
   "cell_type": "code",
   "execution_count": 7,
   "metadata": {},
   "outputs": [
    {
     "ename": "NameError",
     "evalue": "name 'all_data' is not defined",
     "output_type": "error",
     "traceback": [
      "\u001b[0;31m---------------------------------------------------------------------------\u001b[0m",
      "\u001b[0;31mNameError\u001b[0m                                 Traceback (most recent call last)",
      "\u001b[0;32m<ipython-input-7-78a83a06a953>\u001b[0m in \u001b[0;36m<module>\u001b[0;34m\u001b[0m\n\u001b[0;32m----> 1\u001b[0;31m \u001b[0mall_data\u001b[0m\u001b[0;34m.\u001b[0m\u001b[0mdropna\u001b[0m \u001b[0;34m(\u001b[0m\u001b[0minplace\u001b[0m \u001b[0;34m=\u001b[0m \u001b[0;32mTrue\u001b[0m\u001b[0;34m)\u001b[0m\u001b[0;34m\u001b[0m\u001b[0;34m\u001b[0m\u001b[0m\n\u001b[0m",
      "\u001b[0;31mNameError\u001b[0m: name 'all_data' is not defined"
     ]
    }
   ],
   "source": [
    "all_data.dropna (inplace = True)"
   ]
  },
  {
   "cell_type": "code",
   "execution_count": null,
   "metadata": {},
   "outputs": [],
   "source": [
    "all_data['order_approved_at'] = pd.to_datetime(all_data['order_approved_at'])"
   ]
  },
  {
   "cell_type": "code",
   "execution_count": null,
   "metadata": {},
   "outputs": [],
   "source": [
    "all_data['year_order'] = all_data['order_approved_at'].dt.year"
   ]
  },
  {
   "cell_type": "code",
   "execution_count": null,
   "metadata": {},
   "outputs": [],
   "source": [
    "all_data['month_order'] = all_data['order_approved_at'].dt.month"
   ]
  },
  {
   "cell_type": "code",
   "execution_count": null,
   "metadata": {
    "scrolled": false
   },
   "outputs": [],
   "source": [
    "all_data.info()"
   ]
  },
  {
   "cell_type": "code",
   "execution_count": null,
   "metadata": {},
   "outputs": [],
   "source": [
    "print (all_data ['order_approved_at'])"
   ]
  },
  {
   "cell_type": "code",
   "execution_count": null,
   "metadata": {
    "scrolled": true
   },
   "outputs": [],
   "source": [
    "linear_model = smf.ols(formula = 'payment_value ~ year_order + month_order + payment_sequential + payment_installments', data = all_data)\n",
    "fitted_model = linear_model.fit()\n",
    "fitted_model.summary()"
   ]
  },
  {
   "cell_type": "code",
   "execution_count": null,
   "metadata": {
    "scrolled": true
   },
   "outputs": [],
   "source": [
    "df1 = pd.read_csv('../input/olist_orders_dataset.csv')\n",
    "df2 = pd.read_csv('../input/olist_customers_dataset.csv')\n",
    "df3 = pd.read_csv('../input/olist_order_payments_dataset.csv')\n",
    "\n",
    "cols = ['customer_id', 'order_id', 'order_purchase_timestamp']\n",
    "orders = df1[cols]\n",
    "orders = orders.set_index('customer_id')\n",
    "orders.drop_duplicates(inplace=True)\n",
    "\n",
    "# too few \n",
    "cols = ['order_id', 'payment_value']\n",
    "payment = df3[cols]\n",
    "payment = payment.set_index('order_id')\n",
    "payment.drop_duplicates(inplace=True)\n",
    "\n",
    "cols = ['customer_id', 'customer_unique_id']\n",
    "customers = df2[cols]\n",
    "customers = customers.set_index('customer_id')\n",
    "\n",
    "elog = pd.concat([orders,customers], axis=1, join='inner')\n",
    "elog.reset_index(inplace=True)\n",
    "\n",
    "cols = ['customer_unique_id', 'order_purchase_timestamp']\n",
    "elog = elog[cols]\n",
    "\n",
    "elog['order_purchase_timestamp'] = pd.to_datetime(elog['order_purchase_timestamp'])\n",
    "elog['order_date'] = elog.order_purchase_timestamp.dt.date\n",
    "elog['order_date'] = pd.to_datetime(elog['order_date'])\n",
    "\n",
    "cols = ['customer_unique_id', 'order_date']\n",
    "elog = elog[cols]\n",
    "\n",
    "elog.columns = ['CUSTOMER_ID', 'ORDER_DATE']\n",
    "\n",
    "\n",
    "elog.info()\n",
    "display(elog.sample(5))"
   ]
  },
  {
   "cell_type": "code",
   "execution_count": null,
   "metadata": {},
   "outputs": [],
   "source": [
    "customer_count = all_data.groupby('customer_unique_id').count()[['payment_value']]\n",
    "customer_count.sort_values(by='payment_value', ascending=False, na_position='first')"
   ]
  },
  {
   "cell_type": "code",
   "execution_count": null,
   "metadata": {},
   "outputs": [],
   "source": [
    "customer_count.sort_values(by='payment_value', ascending=False, na_position='first')"
   ]
  },
  {
   "cell_type": "code",
   "execution_count": null,
   "metadata": {
    "scrolled": true
   },
   "outputs": [],
   "source": [
    "customer_total = all_data.groupby('customer_unique_id').sum()[['payment_value']]\n",
    "customer_total.sort_values(by='payment_value', ascending=False, na_position='first')"
   ]
  },
  {
   "cell_type": "code",
   "execution_count": null,
   "metadata": {},
   "outputs": [],
   "source": []
  },
  {
   "cell_type": "code",
   "execution_count": null,
   "metadata": {},
   "outputs": [],
   "source": [
    "customer_total = all_data.groupby('customer_unique_id').sum()[['payment_value']]"
   ]
  },
  {
   "cell_type": "code",
   "execution_count": null,
   "metadata": {},
   "outputs": [],
   "source": [
    "all_data.insert(18, 'customer_total', value, allow_duplicates = False)"
   ]
  },
  {
   "cell_type": "code",
   "execution_count": null,
   "metadata": {},
   "outputs": [],
   "source": [
    "linear_model = smf.ols(formula = 'payment_value ~ payment_type', data = all_data)\n",
    "fitted_model = linear_model.fit()\n",
    "fitted_model.summary()"
   ]
  },
  {
   "cell_type": "code",
   "execution_count": null,
   "metadata": {},
   "outputs": [],
   "source": [
    "numeric_vars = ['month_order','payment_value','payment_installments']\n",
    "ax = all_data[numeric_vars].hist(bins=10)\n",
    "plt.tight_layout()"
   ]
  },
  {
   "cell_type": "code",
   "execution_count": null,
   "metadata": {},
   "outputs": [],
   "source": [
    "customer_data = pd.merge (customer_count, all_data)\n",
    "customer_data.sort_values(by='customer_id', ascending=False, na_position='first')\n",
    "customer_data.tail(30)"
   ]
  },
  {
   "cell_type": "code",
   "execution_count": null,
   "metadata": {},
   "outputs": [],
   "source": [
    "df = pd.concat([all_data,customer_count], axis=1)\n",
    "df.reset_index(inplace=True)\n",
    "df.head()"
   ]
  },
  {
   "cell_type": "code",
   "execution_count": null,
   "metadata": {},
   "outputs": [],
   "source": [
    "all_data[numeric_vars].plot(kind='box')"
   ]
  },
  {
   "cell_type": "code",
   "execution_count": null,
   "metadata": {},
   "outputs": [],
   "source": [
    "i=all_data.groupby('payment_installments').count()\n",
    "i"
   ]
  },
  {
   "cell_type": "code",
   "execution_count": null,
   "metadata": {},
   "outputs": [],
   "source": [
    "all_data['payment_installments'].hist(bins=10)\n",
    "plt.tight_layout()"
   ]
  },
  {
   "cell_type": "code",
   "execution_count": null,
   "metadata": {},
   "outputs": [],
   "source": [
    "i.plot(kind='bar').set_ylabel('order_id')"
   ]
  },
  {
   "cell_type": "code",
   "execution_count": null,
   "metadata": {},
   "outputs": [],
   "source": [
    "i['order_id'].plot(kind='bar')"
   ]
  },
  {
   "cell_type": "code",
   "execution_count": null,
   "metadata": {},
   "outputs": [],
   "source": []
  },
  {
   "cell_type": "code",
   "execution_count": null,
   "metadata": {},
   "outputs": [],
   "source": []
  },
  {
   "cell_type": "code",
   "execution_count": null,
   "metadata": {},
   "outputs": [],
   "source": []
  }
 ],
 "metadata": {
  "kernelspec": {
   "display_name": "Python 3",
   "language": "python",
   "name": "python3"
  },
  "language_info": {
   "codemirror_mode": {
    "name": "ipython",
    "version": 3
   },
   "file_extension": ".py",
   "mimetype": "text/x-python",
   "name": "python",
   "nbconvert_exporter": "python",
   "pygments_lexer": "ipython3",
   "version": "3.7.3"
  }
 },
 "nbformat": 4,
 "nbformat_minor": 2
}
